{
 "cells": [
  {
   "cell_type": "markdown",
   "metadata": {},
   "source": [
    "# Football Transfer Fee Prediction: Visualizations and Dashboard\n",
    "\n",
    "This notebook visualizes key insights from the football transfer fee prediction project, including feature importance, transfer fee distributions, and prediction errors."
   ]
  },
  {
   "cell_type": "markdown",
   "metadata": {},
   "source": [
    "# Football Transfer Fee Prediction: Visualizations and Dashboard\n",
    "\n",
    "This notebook visualizes key insights from the football transfer fee prediction project, including feature importance, transfer fee distributions, and prediction errors."
   ]
  },
  {
   "cell_type": "markdown",
   "metadata": {},
   "source": [
    "## Setup"
   ]
  },
  {
   "cell_type": "code",
   "execution_count": null,
   "metadata": {},
   "outputs": [],
   "source": [
    "import pandas as pd\n",
    "import plotly.express as px\n",
    "import plotly.graph_objects as go\n",
    "from plotly.subplots import make_subplots\n",
    "\n",
    "# Load data\n",
    "true_data = pd.read_csv('../True_players_data.csv')\n",
    "predictions_gk = pd.read_csv('../predictions_gk.csv')\n",
    "predictions_field = pd.read_csv('../predictions_field.csv')\n",
    "\n",
    "# Feature importance\n",
    "gk_features = [\n",
    "    ('Potential', 0.176),\n",
    "    ('Overall rating', 0.160),\n",
    "    ('Pace / Diving', 0.152),\n",
    "    ('Dribbling / Reflexes', 0.145),\n",
    "    ('Total goalkeeping', 0.128),\n",
    "    ('Wage', 0.105),\n",
    "    ('Age', 0.075),\n",
    "    ('Shooting / Handling', 0.043),\n",
    "    ('Passing / Kicking', 0.017)\n",
    "]\n",
    "\n",
    "field_features = [\n",
    "    ('Overall rating', 0.377),\n",
    "    ('Wage', 0.254),\n",
    "    ('Potential', 0.211),\n",
    "    ('Total mentality', 0.039),\n",
    "    ('Age', 0.038),\n",
    "    ('Total attacking', 0.028),\n",
    "    ('Total skill', 0.020),\n",
    "    ('Total defending', 0.014),\n",
    "    ('Total power', 0.012),\n",
    "    ('Total movement', 0.008)\n",
    "]"
   ]
  },
  {
   "cell_type": "markdown",
   "metadata": {},
   "source": [
    "## 1. Feature Importance"
   ]
  },
  {
   "cell_type": "code",
   "execution_count": null,
   "metadata": {},
   "outputs": [],
   "source": [
    "# Create subplots\n",
    "fig = make_subplots(rows=1, cols=2, subplot_titles=('Goalkeepers', 'Field Players'))\n",
    "\n",
    "# Goalkeepers\n",
    "gk_df = pd.DataFrame(gk_features, columns=['Feature', 'Importance'])\n",
    "fig.add_trace(\n",
    "    go.Bar(x=gk_df['Importance'], y=gk_df['Feature'], orientation='h', name='Goalkeepers'),\n",
    "    row=1, col=1\n",
    ")\n",
    "\n",
    "# Field Players\n",
    "field_df = pd.DataFrame(field_features, columns=['Feature', 'Importance'])\n",
    "fig.add_trace(\n",
    "    go.Bar(x=field_df['Importance'], y=field_df['Feature'], orientation='h', name='Field Players'),\n",
    "    row=1, col=2\n",
    ")\n",
    "\n",
    "fig.update_layout(title='Feature Importance for Transfer Fee Prediction', height=500)\n",
    "fig.show()"
   ]
  },
  {
   "cell_type": "markdown",
   "metadata": {},
   "source": [
    "## 2. Transfer Fee Distribution"
   ]
  },
  {
   "cell_type": "code",
   "execution_count": null,
   "metadata": {},
   "outputs": [],
   "source": [
    "fig = px.histogram(\n",
    "    true_data, x='Value', color='Position category',\n",
    "    title='Transfer Fee Distribution by Position',\n",
    "    nbins=50, log_y=True\n",
    ")\n",
    "fig.update_layout(xaxis_title='Transfer Fee (Euros)', yaxis_title='Count (Log Scale)')\n",
    "fig.show()"
   ]
  },
  {
   "cell_type": "markdown",
   "metadata": {},
   "source": [
    "## 3. Prediction Errors"
   ]
  },
  {
   "cell_type": "code",
   "execution_count": null,
   "metadata": {},
   "outputs": [],
   "source": [
    "# Calculate errors\n",
    "predictions_gk['Error'] = (predictions_gk['Value_euros'] - predictions_gk['Prediction_euros']).abs()\n",
    "predictions_field['Error'] = (predictions_field['Value_euros'] - predictions_field['Prediction_euros']).abs()\n",
    "\n",
    "fig = make_subplots(rows=1, cols=2, subplot_titles=('Goalkeepers', 'Field Players'))\n",
    "\n",
    "fig.add_trace(\n",
    "    go.Histogram(x=predictions_gk['Error'], name='Goalkeepers', nbinsx=50),\n",
    "    row=1, col=1\n",
    ")\n",
    "fig.add_trace(\n",
    "    go.Histogram(x=predictions_field['Error'], name='Field Players', nbinsx=50),\n",
    "    row=1, col=2\n",
    ")\n",
    "\n",
    "fig.update_layout(title='Prediction Errors Distribution', xaxis_title='Absolute Error (Euros)', yaxis_title='Count')\n",
    "fig.show()"
   ]
  },
  {
   "cell_type": "markdown",
   "metadata": {},
   "source": [
    "## 4. Dashboard"
   ]
  },
  {
   "cell_type": "code",
   "execution_count": null,
   "metadata": {},
   "outputs": [],
   "source": [
    "import dash\n",
    "from dash import dcc, html\n",
    "from dash.dependencies import Input, Output\n",
    "\n",
    "app = dash.Dash(__name__)\n",
    "\n",
    "app.layout = html.Div([\n",
    "    html.H1('Football Transfer Fee Prediction Dashboard'),\n",
    "    dcc.Dropdown(\n",
    "        id='position-dropdown',\n",
    "        options=[\n",
    "            {'label': 'Goalkeepers', 'value': 'gardien'},\n",
    "            {'label': 'Field Players', 'value': 'field'}\n",
    "        ],\n",
    "        value='gardien'\n",
    "    ),\n",
    "    dcc.Graph(id='fee-distribution'),\n",
    "    dcc.Graph(id='error-distribution')\n",
    "])\n",
    "\n",
    "@app.callback(\n",
    "    [Output('fee-distribution', 'figure'), Output('error-distribution', 'figure')],\n",
    "    [Input('position-dropdown', 'value')]\n",
    ")\n",
    "def update_graphs(position):\n",
    "    if position == 'gardien':\n",
    "        df = true_data[true_data['Position category'] == 'gardien']\n",
    "        error_df = predictions_gk\n",
    "    else:\n",
    "        df = true_data[true_data['Position category'].isin(['attaquant', 'milieu', 'défenseur'])]\n",
    "        error_df = predictions_field\n",
    "    \n",
    "    fee_fig = px.histogram(df, x='Value', title=f'Transfer Fee Distribution ({position})', nbins=50, log_y=True)\n",
    "    error_fig = px.histogram(error_df, x='Error', title=f'Prediction Errors ({position})', nbins=50)\n",
    "    return fee_fig, error_fig\n",
    "\n",
    "if __name__ == '__main__':\n",
    "    app.run_server(debug=True, port=8050)"
   ]
  },
  {
   "cell_type": "code",
   "execution_count": null,
   "metadata": {},
   "outputs": [],
   "source": []
  }
 ],
 "metadata": {
  "kernelspec": {
   "display_name": "Python 3 (ipykernel)",
   "language": "python",
   "name": "python3"
  },
  "language_info": {
   "codemirror_mode": {
    "name": "ipython",
    "version": 3
   },
   "file_extension": ".py",
   "mimetype": "text/x-python",
   "name": "python",
   "nbconvert_exporter": "python",
   "pygments_lexer": "ipython3",
   "version": "3.8.10"
  }
 },
 "nbformat": 4,
 "nbformat_minor": 4
}
