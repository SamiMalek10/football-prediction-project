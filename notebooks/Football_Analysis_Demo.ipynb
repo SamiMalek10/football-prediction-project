{
 "cells": [
  {
   "cell_type": "markdown",
   "metadata": {},
   "source": [
    "# 🏈 Analyse et Prédiction de la Valeur des Joueurs\n",
    "\n",
    "Ce notebook démontre l'utilisation du pipeline Big Data pour prédire la valeur marchande des joueurs de football."
   ]
  },
  {
   "cell_type": "code",
   "execution_count": null,
   "metadata": {},
   "outputs": [],
   "source": [
    "# Imports nécessaires\n",
    "import pandas as pd\n",
    "import numpy as np\n",
    "import matplotlib.pyplot as plt\n",
    "import seaborn as sns\n",
    "from pyspark.sql import SparkSession\n",
    "import plotly.express as px\n",
    "import plotly.graph_objects as go\n",
    "\n",
    "# Configuration des graphiques\n",
    "plt.style.use('ggplot')\n",
    "sns.set_palette('husl')\n",
    "\n",
    "print('📊 Environnement d\\'analyse configuré!')"
   ]
  },
  {
   "cell_type": "code",
   "execution_count": null,
   "metadata": {},
   "outputs": [],
   "source": [
    "# Initialisation de Spark\n",
    "spark = SparkSession.builder \\\n",
    "    .appName('FootballAnalysis') \\\n",
    "    .getOrCreate()\n",
    "\n",
    "print(f'✅ Session Spark initialisée: {spark.version}')"
   ]
  },
  {
   "cell_type": "code",
   "execution_count": null,
   "metadata": {},
   "outputs": [],
   "source": [
    "# Chargement des données\n",
    "df = pd.read_csv('../data/players_data.csv')\n",
    "print(f'📈 Données chargées: {len(df)} joueurs')\n",
    "print(f'📊 Colonnes: {len(df.columns)}')\n",
    "df.head()"
   ]
  },
  {
   "cell_type": "code",
   "execution_count": null,
   "metadata": {},
   "outputs": [],
   "source": [
    "# Analysis exploratoire\n",
    "fig, axes = plt.subplots(2, 2, figsize=(15, 12))\n",
    "\n",
    "# Distribution des âges\n",
    "axes[0,0].hist(df['Age'], bins=30, alpha=0.7)\n",
    "axes[0,0].set_title('Distribution des Âges')\n",
    "axes[0,0].set_xlabel('Âge')\n",
    "\n",
    "# Distribution des valeurs\n",
    "axes[0,1].hist(np.log(df['Value'] + 1), bins=30, alpha=0.7)\n",
    "axes[0,1].set_title('Distribution des Valeurs (log)')\n",
    "axes[0,1].set_xlabel('Log(Valeur)')\n",
    "\n",
    "# Relation Âge vs Valeur\n",
    "axes[1,0].scatter(df['Age'], df['Value'], alpha=0.5)\n",
    "axes[1,0].set_title('Âge vs Valeur')\n",
    "axes[1,0].set_xlabel('Âge')\n",
    "axes[1,0].set_ylabel('Valeur')\n",
    "\n",
    "# Overall Rating vs Valeur\n",
    "axes[1,1].scatter(df['Overall_rating'], df['Value'], alpha=0.5)\n",
    "axes[1,1].set_title('Overall Rating vs Valeur')\n",
    "axes[1,1].set_xlabel('Overall Rating')\n",
    "axes[1,1].set_ylabel('Valeur')\n",
    "\n",
    "plt.tight_layout()\n",
    "plt.show()"
   ]
  }
 ],
 "metadata": {
  "kernelspec": {
   "display_name": "Python 3",
   "language": "python",
   "name": "python3"
  },
  "language_info": {
   "codemirror_mode": {
    "name": "ipython",
    "version": 3
   },
   "file_extension": ".py",
   "mimetype": "text/x-python",
   "name": "python",
   "nbconvert_exporter": "python",
   "pygments_lexer": "ipython3",
   "version": "3.8.10"
  }
 },
 "nbformat": 4,
 "nbformat_minor": 4
}
